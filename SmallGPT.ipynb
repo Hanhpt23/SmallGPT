{
  "nbformat": 4,
  "nbformat_minor": 0,
  "metadata": {
    "colab": {
      "provenance": [],
      "gpuType": "T4",
      "authorship_tag": "ABX9TyOJLVufB0LCuC8M20ozpwir",
      "include_colab_link": true
    },
    "kernelspec": {
      "name": "python3",
      "display_name": "Python 3"
    },
    "language_info": {
      "name": "python"
    },
    "accelerator": "GPU"
  },
  "cells": [
    {
      "cell_type": "markdown",
      "metadata": {
        "id": "view-in-github",
        "colab_type": "text"
      },
      "source": [
        "<a href=\"https://colab.research.google.com/github/Hanhpt23/SmallGPT/blob/main/SmallGPT.ipynb\" target=\"_parent\"><img src=\"https://colab.research.google.com/assets/colab-badge.svg\" alt=\"Open In Colab\"/></a>"
      ]
    },
    {
      "cell_type": "markdown",
      "source": [
        "# Building small GPT\n",
        "source: [GPT](https://www.youtube.com/watch?v=kCc8FmEb1nY&t=19s&ab_channel=AndrejKarpathy)"
      ],
      "metadata": {
        "id": "uoGBDNd_NsIc"
      }
    },
    {
      "cell_type": "code",
      "execution_count": 58,
      "metadata": {
        "id": "8PDHB_SYhP_0",
        "colab": {
          "base_uri": "https://localhost:8080/"
        },
        "outputId": "420fc3bf-b617-4a4e-8145-a6f857dbad5c"
      },
      "outputs": [
        {
          "output_type": "execute_result",
          "data": {
            "text/plain": [
              "torch.Size([1, 8, 20, 64])"
            ]
          },
          "metadata": {},
          "execution_count": 58
        }
      ],
      "source": [
        "import torch\n",
        "import torch.nn as nn\n",
        "hidden_states = torch.rand(1, 20, 512)\n",
        "\n",
        "new_shape = hidden_states.size()[:-1] + (8, 64)\n",
        "new_shape\n",
        "hidden_states = hidden_states.view(new_shape)\n",
        "hidden_states.permute(0, 2, 1, 3).shape"
      ]
    },
    {
      "cell_type": "markdown",
      "source": [
        "# Data and data transform"
      ],
      "metadata": {
        "id": "OTa6K5TmAS97"
      }
    },
    {
      "cell_type": "code",
      "source": [
        "!git clone https://github.com/Hanhpt23/SmallGPT"
      ],
      "metadata": {
        "colab": {
          "base_uri": "https://localhost:8080/"
        },
        "id": "Se_o4WYZ8K1D",
        "outputId": "effa700b-ddc1-4497-f650-77dd34c9b738"
      },
      "execution_count": 61,
      "outputs": [
        {
          "output_type": "stream",
          "name": "stdout",
          "text": [
            "Cloning into 'SmallGPT'...\n",
            "remote: Enumerating objects: 18, done.\u001b[K\n",
            "remote: Counting objects: 100% (18/18), done.\u001b[K\n",
            "remote: Compressing objects: 100% (14/14), done.\u001b[K\n",
            "remote: Total 18 (delta 0), reused 0 (delta 0), pack-reused 0\u001b[K\n",
            "Receiving objects: 100% (18/18), 6.59 KiB | 6.59 MiB/s, done.\n"
          ]
        }
      ]
    },
    {
      "cell_type": "code",
      "source": [
        "with open('SmallGPT/source/TheRaven.txt', 'r', encoding= 'utf-8') as f:\n",
        "  text = f.read()\n",
        "\n",
        "print(\"length of dataset in characters: \", len(text))\n"
      ],
      "metadata": {
        "colab": {
          "base_uri": "https://localhost:8080/"
        },
        "id": "k-EHAS3W7GpG",
        "outputId": "cf8acf8a-3841-4ef1-a883-8796d9d7b1fc"
      },
      "execution_count": 62,
      "outputs": [
        {
          "output_type": "stream",
          "name": "stdout",
          "text": [
            "length of dataset in characters:  6648\n"
          ]
        }
      ]
    },
    {
      "cell_type": "code",
      "source": [
        "print(text[:100])"
      ],
      "metadata": {
        "colab": {
          "base_uri": "https://localhost:8080/"
        },
        "id": "0gJ2FXjB7mZx",
        "outputId": "4951709f-ae59-4032-b75b-a153ab0ad051"
      },
      "execution_count": 63,
      "outputs": [
        {
          "output_type": "stream",
          "name": "stdout",
          "text": [
            "\n",
            "Once upon a midnight dreary, while I pondered, weak and weary,\n",
            "Over many a quaint and curious volum\n"
          ]
        }
      ]
    },
    {
      "cell_type": "code",
      "source": [
        "import torch\n",
        "import torch.nn as nn\n",
        "from torch.nn import functional as F\n",
        "\n",
        "# hyperparameters\n",
        "batch_size = 16 # how many independent sequences will we process in parallel?\n",
        "block_size = 32 # what is the maximum context length for predictions?\n",
        "max_iters = 1000\n",
        "eval_interval = 100\n",
        "learning_rate = 1e-3\n",
        "device = 'cuda' if torch.cuda.is_available() else 'cpu'\n",
        "eval_iters = 200\n",
        "n_embd = 64\n",
        "n_head = 4\n",
        "n_layer = 4\n",
        "dropout = 0.0\n",
        "# ------------\n",
        "\n",
        "torch.manual_seed(1337)\n",
        "\n",
        "# Download from https://github.com/Hanhpt23/SmallGPT/source/TheRaven.txt\n",
        "with open('SmallGPT/source/TheRaven.txt', 'r', encoding= 'utf-8') as f:\n",
        "  text = f.read()\n",
        "\n",
        "# here are all the unique characters that occur in this text\n",
        "chars = sorted(list(set(text)))\n",
        "vocab_size = len(chars)\n"
      ],
      "metadata": {
        "id": "rumy8dO5gWVa"
      },
      "execution_count": 64,
      "outputs": []
    },
    {
      "cell_type": "code",
      "source": [
        "print(chars[:40])\n",
        "vocab_size"
      ],
      "metadata": {
        "colab": {
          "base_uri": "https://localhost:8080/"
        },
        "id": "ZdaiH3e6-Sff",
        "outputId": "53346217-2d00-42ac-f258-b1fbdbb6a0ae"
      },
      "execution_count": 65,
      "outputs": [
        {
          "output_type": "stream",
          "name": "stdout",
          "text": [
            "['\\n', ' ', '!', ',', '-', '.', ';', '?', 'A', 'B', 'C', 'D', 'E', 'F', 'G', 'H', 'I', 'L', 'M', 'N', 'O', 'P', 'Q', 'R', 'S', 'T', 'W', 'a', 'b', 'c', 'd', 'e', 'f', 'g', 'h', 'i', 'j', 'k', 'l', 'm']\n"
          ]
        },
        {
          "output_type": "execute_result",
          "data": {
            "text/plain": [
              "57"
            ]
          },
          "metadata": {},
          "execution_count": 65
        }
      ]
    },
    {
      "cell_type": "markdown",
      "source": [
        "## We decoder the poem into integers, in which every character is mapped by a number"
      ],
      "metadata": {
        "id": "T5WM1uDhFCXG"
      }
    },
    {
      "cell_type": "code",
      "source": [
        "# create a mapping from characters to integers\n",
        "\n",
        "stoi = { ch:i for i,ch in enumerate(chars) } # map characters to integers [A B C D ...] ---> [1 2 3 4 ...]\n",
        "itos = { i:ch for i,ch in enumerate(chars) } # map integers to characters [1 2 3 4 ...] ---> [A B C D ...]\n",
        "\n",
        "encode = lambda s: [stoi[c] for c in s] # encoder: take a string, output a list of integers\n",
        "decode = lambda l: ''.join([itos[i] for i in l]) # decoder: take a list of integers, output a string\n",
        "\n"
      ],
      "metadata": {
        "id": "_JQT-eP8-lPi"
      },
      "execution_count": 68,
      "outputs": []
    },
    {
      "cell_type": "code",
      "source": [
        "# Test the encode and decode\n",
        "\n",
        "print(encode('Hi, how can I help you'))\n",
        "print(decode(encode('Hi, how can I help you')))"
      ],
      "metadata": {
        "colab": {
          "base_uri": "https://localhost:8080/"
        },
        "id": "kxj5tNjD_4Gb",
        "outputId": "1038891c-37ba-4bf2-d260-30a255adedc8"
      },
      "execution_count": 69,
      "outputs": [
        {
          "output_type": "stream",
          "name": "stdout",
          "text": [
            "[15, 35, 3, 1, 34, 41, 49, 1, 29, 27, 40, 1, 16, 1, 34, 31, 38, 42, 1, 51, 41, 47]\n",
            "Hi, how can I help you\n"
          ]
        }
      ]
    },
    {
      "cell_type": "code",
      "source": [
        "# Train and test splits\n",
        "data = torch.tensor(encode(text), dtype=torch.long)\n",
        "n = int(0.9*len(data)) # first 90% will be train, rest val\n",
        "train_data = data[:n]\n",
        "val_data = data[n:]\n",
        "print(data.shape,data.dtype,  train_data.shape, val_data.shape)"
      ],
      "metadata": {
        "colab": {
          "base_uri": "https://localhost:8080/"
        },
        "id": "6c8yjfvT_c8g",
        "outputId": "fc401086-8a20-4227-f57f-4cfa74b415fc"
      },
      "execution_count": 70,
      "outputs": [
        {
          "output_type": "stream",
          "name": "stdout",
          "text": [
            "torch.Size([6648]) torch.int64 torch.Size([5983]) torch.Size([665])\n"
          ]
        }
      ]
    },
    {
      "cell_type": "code",
      "source": [
        "block_size = 8\n",
        "print(train_data[: block_size +1],'\\n--------------------------')\n",
        "\n",
        "x = train_data[: block_size]\n",
        "y = train_data[1:block_size +1]\n",
        "for i in range(block_size):\n",
        "  context = x[: i+1]\n",
        "  target = y[i]\n",
        "  print(f'When input is {context}, the target is {target}')"
      ],
      "metadata": {
        "colab": {
          "base_uri": "https://localhost:8080/"
        },
        "id": "GnPoe-6zCW0Y",
        "outputId": "a964c15f-8354-4418-9bc2-56292eaf8111"
      },
      "execution_count": 71,
      "outputs": [
        {
          "output_type": "stream",
          "name": "stdout",
          "text": [
            "tensor([ 0, 20, 40, 29, 31,  1, 47, 42, 41]) \n",
            "--------------------------\n",
            "When input is tensor([0]), the target is 20\n",
            "When input is tensor([ 0, 20]), the target is 40\n",
            "When input is tensor([ 0, 20, 40]), the target is 29\n",
            "When input is tensor([ 0, 20, 40, 29]), the target is 31\n",
            "When input is tensor([ 0, 20, 40, 29, 31]), the target is 1\n",
            "When input is tensor([ 0, 20, 40, 29, 31,  1]), the target is 47\n",
            "When input is tensor([ 0, 20, 40, 29, 31,  1, 47]), the target is 42\n",
            "When input is tensor([ 0, 20, 40, 29, 31,  1, 47, 42]), the target is 41\n"
          ]
        }
      ]
    },
    {
      "cell_type": "markdown",
      "source": [
        "Each number represents for a unique character\n",
        "<br>===> The model should predict the next character from the given characters"
      ],
      "metadata": {
        "id": "OEJWszpiERHq"
      }
    },
    {
      "cell_type": "markdown",
      "source": [
        "## Split data into train and val sets"
      ],
      "metadata": {
        "id": "wXorXAuEFZ43"
      }
    },
    {
      "cell_type": "code",
      "source": [
        "len(data) - block_size\n",
        "ix = torch.randint(len(data) - block_size, (batch_size,))\n",
        "x = torch.stack([data[i:i+block_size] for i in ix])\n",
        "x\n"
      ],
      "metadata": {
        "colab": {
          "base_uri": "https://localhost:8080/"
        },
        "id": "aDij772cH0oS",
        "outputId": "e64c14ca-849a-472b-b6de-d864c0044aed"
      },
      "execution_count": 72,
      "outputs": [
        {
          "output_type": "execute_result",
          "data": {
            "text/plain": [
              "tensor([[31, 39, 28, 31, 44,  1, 35, 46],\n",
              "        [38, 31, 27, 30,  7, 52, 46, 31],\n",
              "        [31,  1, 23, 27, 48, 31, 40,  1],\n",
              "        [41, 38, 38, 41, 49, 31, 30,  1],\n",
              "        [31,  1, 41, 40, 38, 51,  1, 49],\n",
              "        [27, 35, 40, 46, 38, 51,  1, 51],\n",
              "        [31, 39, 28, 31, 44,  1, 35, 46],\n",
              "        [31, 45, 41, 38, 27, 46, 31,  1],\n",
              "        [45, 41,  1, 27, 42, 46, 38, 51],\n",
              "        [ 1, 44, 27, 44, 31,  1, 27, 40],\n",
              "        [ 1, 27, 33, 27, 35, 40,  1, 16],\n",
              "        [41,  1, 28, 38, 27, 29, 37,  1],\n",
              "        [31, 40, 31, 45, 45,  1, 16,  1],\n",
              "        [ 1, 35, 40, 46, 41,  1, 46, 34],\n",
              "        [ 1, 45, 39, 35, 38, 35, 40, 33],\n",
              "        [35, 48, 35, 40, 33,  1, 34, 47]])"
            ]
          },
          "metadata": {},
          "execution_count": 72
        }
      ]
    },
    {
      "cell_type": "code",
      "source": [
        "# data loading\n",
        "def get_batch(split):\n",
        "    # generate a small batch of data of inputs x and targets y\n",
        "    data = train_data if split == 'train' else val_data\n",
        "    ix = torch.randint(len(data) - block_size, (batch_size,)) # a batch dataset taken from train_data or val_dataset\n",
        "    x = torch.stack([data[i:i+block_size] for i in ix])\n",
        "    y = torch.stack([data[i+1:i+block_size+1] for i in ix])\n",
        "    x, y = x.to(device), y.to(device)\n",
        "    return x, y\n",
        "\n",
        "@torch.no_grad()\n",
        "def estimate_loss():\n",
        "    out = {}\n",
        "    model.eval()\n",
        "    for split in ['train', 'val']:\n",
        "        losses = torch.zeros(eval_iters)\n",
        "        for k in range(eval_iters):\n",
        "            X, Y = get_batch(split)\n",
        "            logits, loss = model(X, Y)\n",
        "            losses[k] = loss.item()\n",
        "        out[split] = losses.mean()\n",
        "    model.train()\n",
        "    return out\n",
        "\n",
        "\n",
        "x, y = get_batch('train')\n",
        "\n",
        "print(len(x), '\\nThe last chunk of train dataset')\n",
        "print(x, '\\n', y)"
      ],
      "metadata": {
        "colab": {
          "base_uri": "https://localhost:8080/"
        },
        "id": "cRryKY6t-NgF",
        "outputId": "bfad6808-e4ac-45e8-cbd8-346ad7a887c4"
      },
      "execution_count": 73,
      "outputs": [
        {
          "output_type": "stream",
          "name": "stdout",
          "text": [
            "16 \n",
            "The last chunk of train dataset\n",
            "tensor([[27, 46,  1, 14, 41, 30,  1, 49],\n",
            "        [41, 44, 52,  0, 24, 41, 39, 31],\n",
            "        [45, 27, 46,  1, 30, 35, 48, 35],\n",
            "        [16,  1, 39, 27, 44, 48, 31, 38],\n",
            "        [ 1, 34, 31,  6,  0,  1,  1,  1],\n",
            "        [28, 41, 48, 31,  1, 39, 51,  1],\n",
            "        [39, 51,  1, 28, 41, 41, 37, 45],\n",
            "        [34, 31, 38, 42,  1, 27, 33, 44],\n",
            "        [33, 52, 38, 35, 46, 46, 38, 31],\n",
            "        [46, 38, 31, 45, 45,  3, 56,  1],\n",
            "        [ 1, 17, 31, 46,  1, 39, 31,  1],\n",
            "        [54, 45,  1, 29, 41, 44, 31,  6],\n",
            "        [46, 27, 42, 42, 35, 40, 33,  3],\n",
            "        [39, 42, 31, 45, 46,  1, 46, 41],\n",
            "        [38,  1, 39, 51,  1, 32, 27, 40],\n",
            "        [45, 31,  1, 27, 40, 33, 31, 38]], device='cuda:0') \n",
            " tensor([[46,  1, 14, 41, 30,  1, 49, 31],\n",
            "        [44, 52,  0, 24, 41, 39, 31,  1],\n",
            "        [27, 46,  1, 30, 35, 48, 35, 40],\n",
            "        [ 1, 39, 27, 44, 48, 31, 38, 38],\n",
            "        [34, 31,  6,  0,  1,  1,  1,  1],\n",
            "        [41, 48, 31,  1, 39, 51,  1, 29],\n",
            "        [51,  1, 28, 41, 41, 37, 45,  1],\n",
            "        [31, 38, 42,  1, 27, 33, 44, 31],\n",
            "        [52, 38, 35, 46, 46, 38, 31,  1],\n",
            "        [38, 31, 45, 45,  3, 56,  1, 45],\n",
            "        [17, 31, 46,  1, 39, 31,  1, 45],\n",
            "        [45,  1, 29, 41, 44, 31,  6,  0],\n",
            "        [27, 42, 42, 35, 40, 33,  3,  1],\n",
            "        [42, 31, 45, 46,  1, 46, 41, 45],\n",
            "        [ 1, 39, 51,  1, 32, 27, 40, 29],\n",
            "        [31,  1, 27, 40, 33, 31, 38, 45]], device='cuda:0')\n"
          ]
        }
      ]
    },
    {
      "cell_type": "markdown",
      "source": [
        "# Buiding a BigramLanguageModel"
      ],
      "metadata": {
        "id": "iUzovEWAKtfN"
      }
    },
    {
      "cell_type": "code",
      "source": [
        "\n",
        "class Head(nn.Module):\n",
        "    \"\"\" one head of self-attention \"\"\"\n",
        "\n",
        "    def __init__(self, head_size):\n",
        "        super().__init__()\n",
        "        self.key = nn.Linear(n_embd, head_size, bias=False)\n",
        "        self.query = nn.Linear(n_embd, head_size, bias=False)\n",
        "        self.value = nn.Linear(n_embd, head_size, bias=False)\n",
        "        self.register_buffer('tril', torch.tril(torch.ones(block_size, block_size)))\n",
        "\n",
        "        self.dropout = nn.Dropout(dropout)\n",
        "\n",
        "    def forward(self, x):\n",
        "        B,T,C = x.shape\n",
        "        k = self.key(x)   # (B,T,C)\n",
        "        q = self.query(x) # (B,T,C)\n",
        "        # compute attention scores (\"affinities\")\n",
        "        wei = q @ k.transpose(-2,-1) * C**-0.5 # (B, T, C) @ (B, C, T) -> (B, T, T)\n",
        "        wei = wei.masked_fill(self.tril[:T, :T] == 0, float('-inf')) # (B, T, T)\n",
        "        wei = F.softmax(wei, dim=-1) # (B, T, T)\n",
        "        wei = self.dropout(wei)\n",
        "        # perform the weighted aggregation of the values\n",
        "        v = self.value(x) # (B,T,C)\n",
        "        out = wei @ v # (B, T, T) @ (B, T, C) -> (B, T, C)\n",
        "        return out\n",
        "\n",
        "class MultiHeadAttention(nn.Module):\n",
        "    \"\"\" multiple heads of self-attention in parallel \"\"\"\n",
        "\n",
        "    def __init__(self, num_heads, head_size):\n",
        "        super().__init__()\n",
        "        self.heads = nn.ModuleList([Head(head_size) for _ in range(num_heads)])\n",
        "        self.proj = nn.Linear(n_embd, n_embd)\n",
        "        self.dropout = nn.Dropout(dropout)\n",
        "\n",
        "    def forward(self, x):\n",
        "        out = torch.cat([h(x) for h in self.heads], dim=-1)\n",
        "        out = self.dropout(self.proj(out))\n",
        "        return out\n",
        "\n",
        "class FeedFoward(nn.Module):\n",
        "    \"\"\" a simple linear layer followed by a non-linearity \"\"\"\n",
        "\n",
        "    def __init__(self, n_embd):\n",
        "        super().__init__()\n",
        "        self.net = nn.Sequential(\n",
        "            nn.Linear(n_embd, 4 * n_embd),\n",
        "            nn.ReLU(),\n",
        "            nn.Linear(4 * n_embd, n_embd),\n",
        "            nn.Dropout(dropout),\n",
        "        )\n",
        "\n",
        "    def forward(self, x):\n",
        "        return self.net(x)\n",
        "\n",
        "class Block(nn.Module):\n",
        "    \"\"\" Transformer block: communication followed by computation \"\"\"\n",
        "\n",
        "    def __init__(self, n_embd, n_head):\n",
        "        # n_embd: embedding dimension, n_head: the number of heads we'd like\n",
        "        super().__init__()\n",
        "        head_size = n_embd // n_head\n",
        "        self.sa = MultiHeadAttention(n_head, head_size)\n",
        "        self.ffwd = FeedFoward(n_embd)\n",
        "        self.ln1 = nn.LayerNorm(n_embd)\n",
        "        self.ln2 = nn.LayerNorm(n_embd)\n",
        "\n",
        "    def forward(self, x):\n",
        "        x = x + self.sa(self.ln1(x))\n",
        "        x = x + self.ffwd(self.ln2(x))\n",
        "        return x\n",
        "\n",
        "# super simple bigram model\n",
        "class BigramLanguageModel(nn.Module):\n",
        "\n",
        "    def __init__(self):\n",
        "        super().__init__()\n",
        "        # each token directly reads off the logits for the next token from a lookup table\n",
        "        self.token_embedding_table = nn.Embedding(vocab_size, n_embd)\n",
        "        self.position_embedding_table = nn.Embedding(block_size, n_embd)\n",
        "        self.blocks = nn.Sequential(*[Block(n_embd, n_head=n_head) for _ in range(n_layer)])\n",
        "        self.ln_f = nn.LayerNorm(n_embd) # final layer norm\n",
        "        self.lm_head = nn.Linear(n_embd, vocab_size)\n",
        "\n",
        "    def forward(self, idx, targets=None):\n",
        "        B, T = idx.shape\n",
        "\n",
        "        # idx and targets are both (B,T) tensor of integers\n",
        "        tok_emb = self.token_embedding_table(idx) # (B,T,C)\n",
        "        pos_emb = self.position_embedding_table(torch.arange(T, device=device)) # (T,C)\n",
        "        x = tok_emb + pos_emb # (B,T,C)\n",
        "        x = self.blocks(x) # (B,T,C)\n",
        "        x = self.ln_f(x) # (B,T,C)\n",
        "        logits = self.lm_head(x) # (B,T,vocab_size)\n",
        "\n",
        "        if targets is None:\n",
        "            loss = None\n",
        "        else:\n",
        "            B, T, C = logits.shape\n",
        "            logits = logits.view(B*T, C)\n",
        "            targets = targets.view(B*T)\n",
        "            loss = F.cross_entropy(logits, targets)\n",
        "\n",
        "        return logits, loss\n",
        "\n",
        "    def generate(self, idx, max_new_tokens):\n",
        "        # idx is (B, T) array of indices in the current context\n",
        "        for _ in range(max_new_tokens):\n",
        "            # crop idx to the last block_size tokens\n",
        "            idx_cond = idx[:, -block_size:]\n",
        "            # get the predictions\n",
        "            logits, loss = self(idx_cond)\n",
        "            # focus only on the last time step\n",
        "            logits = logits[:, -1, :] # becomes (B, C)\n",
        "            # apply softmax to get probabilities\n",
        "            probs = F.softmax(logits, dim=-1) # (B, C)\n",
        "            # sample from the distribution\n",
        "            idx_next = torch.multinomial(probs, num_samples=1) # (B, 1)\n",
        "            # append sampled index to the running sequence\n",
        "            idx = torch.cat((idx, idx_next), dim=1) # (B, T+1)\n",
        "        return idx\n",
        "\n",
        "model = BigramLanguageModel()\n",
        "m = model.to(device)\n",
        "# print the number of parameters in the model\n",
        "print(sum(p.numel() for p in m.parameters())/1e6, 'M parameters')"
      ],
      "metadata": {
        "colab": {
          "base_uri": "https://localhost:8080/"
        },
        "id": "Cy1G7HR293aK",
        "outputId": "e7611417-0d3c-4293-f65b-f5fa1156b828"
      },
      "execution_count": 74,
      "outputs": [
        {
          "output_type": "stream",
          "name": "stdout",
          "text": [
            "0.207161 M parameters\n"
          ]
        }
      ]
    },
    {
      "cell_type": "markdown",
      "source": [
        "## Train model"
      ],
      "metadata": {
        "id": "MITPJ-QqK9rV"
      }
    },
    {
      "cell_type": "code",
      "source": [
        "max_iters = 5000\n",
        "# create a PyTorch optimizer\n",
        "optimizer = torch.optim.AdamW(model.parameters(), lr=learning_rate)\n",
        "\n",
        "for iter in range(max_iters):\n",
        "\n",
        "    # every once in a while evaluate the loss on train and val sets\n",
        "    if iter % eval_interval == 0 or iter == max_iters - 1:\n",
        "        losses = estimate_loss()\n",
        "        print(f\"step {iter}: train loss {losses['train']:.4f}, val loss {losses['val']:.4f}\")\n",
        "\n",
        "    # sample a batch of data\n",
        "    xb, yb = get_batch('train')\n",
        "\n",
        "    # evaluate the loss\n",
        "    logits, loss = model(xb, yb)\n",
        "    optimizer.zero_grad(set_to_none=True)\n",
        "    loss.backward()\n",
        "    optimizer.step()"
      ],
      "metadata": {
        "colab": {
          "base_uri": "https://localhost:8080/"
        },
        "id": "od5myKOyK6K9",
        "outputId": "4d068203-7af3-480e-a69a-4ce816255e66"
      },
      "execution_count": 75,
      "outputs": [
        {
          "output_type": "stream",
          "name": "stdout",
          "text": [
            "step 0: train loss 4.2516, val loss 4.2184\n",
            "step 100: train loss 2.5017, val loss 2.5407\n",
            "step 200: train loss 2.2147, val loss 2.2792\n",
            "step 300: train loss 2.0481, val loss 2.1061\n",
            "step 400: train loss 1.9827, val loss 2.0596\n",
            "step 500: train loss 1.8756, val loss 2.0046\n",
            "step 600: train loss 1.7845, val loss 1.9343\n",
            "step 700: train loss 1.7150, val loss 1.8532\n",
            "step 800: train loss 1.6409, val loss 1.8742\n",
            "step 900: train loss 1.5704, val loss 1.8405\n",
            "step 1000: train loss 1.5297, val loss 1.8028\n",
            "step 1100: train loss 1.4644, val loss 1.7765\n",
            "step 1200: train loss 1.4408, val loss 1.8153\n",
            "step 1300: train loss 1.4118, val loss 1.7990\n",
            "step 1400: train loss 1.3269, val loss 1.7808\n",
            "step 1500: train loss 1.3114, val loss 1.7748\n",
            "step 1600: train loss 1.2779, val loss 1.7956\n",
            "step 1700: train loss 1.2512, val loss 1.8304\n",
            "step 1800: train loss 1.2270, val loss 1.7991\n",
            "step 1900: train loss 1.2060, val loss 1.8923\n",
            "step 2000: train loss 1.1607, val loss 1.8317\n",
            "step 2100: train loss 1.1488, val loss 1.8061\n",
            "step 2200: train loss 1.1326, val loss 1.8727\n",
            "step 2300: train loss 1.0938, val loss 1.8601\n",
            "step 2400: train loss 1.0833, val loss 1.9319\n",
            "step 2500: train loss 1.0526, val loss 1.9089\n",
            "step 2600: train loss 1.0484, val loss 1.9001\n",
            "step 2700: train loss 1.0228, val loss 1.9551\n",
            "step 2800: train loss 1.0201, val loss 1.9613\n",
            "step 2900: train loss 1.0193, val loss 1.9427\n",
            "step 3000: train loss 1.0041, val loss 2.0020\n",
            "step 3100: train loss 0.9784, val loss 2.0250\n",
            "step 3200: train loss 0.9659, val loss 2.0358\n",
            "step 3300: train loss 0.9725, val loss 2.0489\n",
            "step 3400: train loss 0.9540, val loss 2.0080\n",
            "step 3500: train loss 0.9427, val loss 2.0060\n",
            "step 3600: train loss 0.9472, val loss 2.0277\n",
            "step 3700: train loss 0.9429, val loss 2.0765\n",
            "step 3800: train loss 0.9269, val loss 2.0389\n",
            "step 3900: train loss 0.9308, val loss 2.0669\n",
            "step 4000: train loss 0.9082, val loss 2.0692\n",
            "step 4100: train loss 0.9056, val loss 2.0979\n",
            "step 4200: train loss 0.9029, val loss 2.1689\n",
            "step 4300: train loss 0.8915, val loss 2.1090\n",
            "step 4400: train loss 0.8898, val loss 2.1536\n",
            "step 4500: train loss 0.8840, val loss 2.0125\n",
            "step 4600: train loss 0.8826, val loss 2.0903\n",
            "step 4700: train loss 0.8742, val loss 2.0492\n",
            "step 4800: train loss 0.8720, val loss 2.0891\n",
            "step 4900: train loss 0.8640, val loss 2.1369\n",
            "step 4999: train loss 0.8747, val loss 2.1647\n"
          ]
        }
      ]
    },
    {
      "cell_type": "code",
      "source": [],
      "metadata": {
        "colab": {
          "base_uri": "https://localhost:8080/"
        },
        "id": "LIT8P_pBNZX6",
        "outputId": "3a35cf27-cc9e-41c2-d084-eb9a8c80df62"
      },
      "execution_count": 76,
      "outputs": [
        {
          "output_type": "execute_result",
          "data": {
            "text/plain": [
              "tensor([[0]], device='cuda:0')"
            ]
          },
          "metadata": {},
          "execution_count": 76
        }
      ]
    },
    {
      "cell_type": "code",
      "source": [
        "# generate from the model\n",
        "context = torch.zeros((1, 1), dtype=torch.long, device=device)\n",
        "print(decode(m.generate(context, max_new_tokens=100)[0].tolist()))"
      ],
      "metadata": {
        "colab": {
          "base_uri": "https://localhost:8080/"
        },
        "id": "hd91DX0n37ck",
        "outputId": "7a611d9d-03aa-43da-c871-7fbb7c480b43"
      },
      "execution_count": 80,
      "outputs": [
        {
          "output_type": "stream",
          "name": "stdout",
          "text": [
            "\n",
            "\n",
            "    So that darkness the wind, “thy God hather then no longer,\n",
            "wh manly radiant my crest broken, wi\n"
          ]
        }
      ]
    },
    {
      "cell_type": "code",
      "source": [
        "a = torch.rand((4, 4))\n",
        "b = torch.ones((4, 4))\n",
        "torch.tril(b)"
      ],
      "metadata": {
        "colab": {
          "base_uri": "https://localhost:8080/"
        },
        "id": "epPucVZv4ihm",
        "outputId": "20a3bc6b-e385-4715-ab62-3a88eaf80787"
      },
      "execution_count": 81,
      "outputs": [
        {
          "output_type": "execute_result",
          "data": {
            "text/plain": [
              "tensor([[1., 0., 0., 0.],\n",
              "        [1., 1., 0., 0.],\n",
              "        [1., 1., 1., 0.],\n",
              "        [1., 1., 1., 1.]])"
            ]
          },
          "metadata": {},
          "execution_count": 81
        }
      ]
    }
  ]
}